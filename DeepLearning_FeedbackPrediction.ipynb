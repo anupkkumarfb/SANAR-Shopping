{
 "cells": [
  {
   "cell_type": "markdown",
   "metadata": {},
   "source": [
    "## Notebook for Deep Learning based Review prediction "
   ]
  },
  {
   "cell_type": "code",
   "execution_count": null,
   "metadata": {},
   "outputs": [
    {
     "name": "stdout",
     "output_type": "stream",
     "text": [
      "Model: \"sequential_13\"\n",
      "_________________________________________________________________\n",
      "Layer (type)                 Output Shape              Param #   \n",
      "=================================================================\n",
      "embedding_13 (Embedding)     (None, 500, 32)           480032    \n",
      "_________________________________________________________________\n",
      "lstm_6 (LSTM)                (None, 150)               109800    \n",
      "_________________________________________________________________\n",
      "dense_16 (Dense)             (None, 100)               15100     \n",
      "_________________________________________________________________\n",
      "dense_17 (Dense)             (None, 100)               10100     \n",
      "_________________________________________________________________\n",
      "dense_18 (Dense)             (None, 1)                 101       \n",
      "=================================================================\n",
      "Total params: 615,133\n",
      "Trainable params: 615,133\n",
      "Non-trainable params: 0\n",
      "_________________________________________________________________\n",
      " * Serving Flask app \"__main__\" (lazy loading)\n",
      " * Environment: production\n",
      "   WARNING: This is a development server. Do not use it in a production deployment.\n",
      "   Use a production WSGI server instead.\n",
      " * Debug mode: off\n"
     ]
    },
    {
     "name": "stderr",
     "output_type": "stream",
     "text": [
      " * Running on http://127.0.0.1:5000/ (Press CTRL+C to quit)\n",
      "127.0.0.1 - - [18/Sep/2020 13:39:49] \"\u001b[33mGET / HTTP/1.1\u001b[0m\" 404 -\n"
     ]
    },
    {
     "name": "stdout",
     "output_type": "stream",
     "text": [
      "a in GET:  Good Movie overall But There Is a scene with nudity So Its good For 18 And older\n",
      "Above prediction, REview:  [2, 2, 444, 2, 2, 2, 6, 136, 19, 1006, 2, 2, 52, 2, 3070, 2, 922]\n"
     ]
    },
    {
     "name": "stderr",
     "output_type": "stream",
     "text": [
      "127.0.0.1 - - [18/Sep/2020 13:39:52] \"\u001b[37mGET /predict?a=Good%20Movie%20overall%20But%20There%20Is%20a%20scene%20with%20nudity%20So%20Its%20good%20For%2018%20And%20older HTTP/1.1\u001b[0m\" 200 -\n"
     ]
    },
    {
     "name": "stdout",
     "output_type": "stream",
     "text": [
      "Score:  6.045061349868774\n",
      "Final Result:  Worst Experience\n",
      "a in GET:  Not even worth a single penny\n",
      "Above prediction, REview:  [2, 60, 290, 6, 686, 5534]\n",
      "Score: "
     ]
    },
    {
     "name": "stderr",
     "output_type": "stream",
     "text": [
      "127.0.0.1 - - [18/Sep/2020 13:40:23] \"\u001b[37mGET /predict?a=Not%20even%20worth%20a%20single%20penny HTTP/1.1\u001b[0m\" 200 -\n"
     ]
    },
    {
     "name": "stdout",
     "output_type": "stream",
     "text": [
      " 0.001116044950322248\n",
      "Final Result:  Worst Experience\n"
     ]
    },
    {
     "name": "stderr",
     "output_type": "stream",
     "text": [
      "127.0.0.1 - - [18/Sep/2020 13:40:54] \"\u001b[37mGET /predict?a=this%20movie%20did%20a%20pretty%20decent%20jo HTTP/1.1\u001b[0m\" 200 -\n"
     ]
    },
    {
     "name": "stdout",
     "output_type": "stream",
     "text": [
      "a in GET:  this movie did a pretty decent jo\n",
      "Above prediction, REview:  [14, 20, 122, 6, 184, 542, 8133]\n",
      "Score:  1.2568784768518526e-05\n",
      "Final Result:  Worst Experience\n"
     ]
    }
   ],
   "source": [
    "from keras.datasets import imdb\n",
    "\n",
    "import json\n",
    "import os\n",
    "import flask\n",
    "from flask import Flask,jsonify,request\n",
    "from keras.preprocessing import sequence\n",
    "from keras.preprocessing.sequence import pad_sequences\n",
    "#from flask_cors import CORS\n",
    "#from predictor import my_bitcoin_predictor\n",
    "#from flask_ngrok import run_with_ngrok  ## Enable ngrok while using Google Colab\n",
    "from keras.models import load_model\n",
    "\n",
    "d = imdb.get_word_index()\n",
    "\n",
    "app = Flask(__name__)\n",
    "#run_with_ngrok(app)    ## Enable ngrok while using Google Colab\n",
    "\n",
    "@app.route('/predict', methods=['GET', 'POST'])\n",
    "def predict():\n",
    "\n",
    "    review = request.args['a']\n",
    "    rev = review\n",
    "    print(\"a in GET: \", review)\n",
    "\n",
    "    words = review.split()\n",
    "    review = []\n",
    "    for word in words:\n",
    "      if word not in d: \n",
    "        #print(\"Word: \", word)\n",
    "        review.append(2)\n",
    "      else:\n",
    "        #print(\"Word in else: \", word)\n",
    "        review.append(d[word]+3) \n",
    "        #print(d[word])\n",
    "\n",
    "    # Required because of a bug in Keras when using tensorflow graph cross threads\n",
    "    #with graph.as_default():\n",
    "    print(\"Above prediction, REview: \", review)\n",
    "    review = sequence.pad_sequences([review],truncating='pre', padding='pre', maxlen=max_review_length)\n",
    "    prediction = model_1.predict(review)\n",
    "    score = prediction[0][0]\n",
    "    print(\"Score: \", score * 100)\n",
    "\n",
    "    if (score > 0.7):\n",
    "        res = \"Excellent experience\"\n",
    "    elif (score < 0.2):\n",
    "        res = \"Worst Experience\"\n",
    "    else:\n",
    "        res = \"Just OK\"\n",
    "        \n",
    "    print(\"Final Result: \", res)\n",
    "    #res = \"Sample\"\n",
    "        \n",
    "    data = {'score': int(score * 100), \n",
    "            'feedback' : res}\n",
    "    return flask.jsonify(data)\n",
    "\n",
    "if __name__ == \"__main__\":\n",
    "    max_review_length = 500\n",
    "    model_1 = load_model('DeepLearning_Predict_9182020.h5')\n",
    "    model_1.summary()\n",
    "    app.run() "
   ]
  },
  {
   "cell_type": "code",
   "execution_count": null,
   "metadata": {},
   "outputs": [],
   "source": []
  },
  {
   "cell_type": "code",
   "execution_count": null,
   "metadata": {},
   "outputs": [],
   "source": []
  }
 ],
 "metadata": {
  "kernelspec": {
   "display_name": "Python 3",
   "language": "python",
   "name": "python3"
  },
  "language_info": {
   "codemirror_mode": {
    "name": "ipython",
    "version": 3
   },
   "file_extension": ".py",
   "mimetype": "text/x-python",
   "name": "python",
   "nbconvert_exporter": "python",
   "pygments_lexer": "ipython3",
   "version": "3.7.3"
  }
 },
 "nbformat": 4,
 "nbformat_minor": 4
}
